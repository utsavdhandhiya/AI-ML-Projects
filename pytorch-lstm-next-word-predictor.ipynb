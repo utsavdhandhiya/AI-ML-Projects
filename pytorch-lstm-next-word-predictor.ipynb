{
 "cells": [
  {
   "cell_type": "code",
   "execution_count": 1,
   "metadata": {
    "colab": {
     "base_uri": "https://localhost:8080/"
    },
    "executionInfo": {
     "elapsed": 7412,
     "status": "ok",
     "timestamp": 1738846842846,
     "user": {
      "displayName": "CampusX",
      "userId": "17274569631252575216"
     },
     "user_tz": -330
    },
    "id": "5NfcpnluzLzo",
    "outputId": "e47d12c7-db63-4d59-a439-44808d5bdc81"
   },
   "outputs": [
    {
     "name": "stdout",
     "output_type": "stream",
     "text": [
      "Requirement already satisfied: nltk in /usr/local/lib/python3.11/dist-packages (3.9.1)\n",
      "Requirement already satisfied: click in /usr/local/lib/python3.11/dist-packages (from nltk) (8.1.8)\n",
      "Requirement already satisfied: joblib in /usr/local/lib/python3.11/dist-packages (from nltk) (1.4.2)\n",
      "Requirement already satisfied: regex>=2021.8.3 in /usr/local/lib/python3.11/dist-packages (from nltk) (2024.11.6)\n",
      "Requirement already satisfied: tqdm in /usr/local/lib/python3.11/dist-packages (from nltk) (4.67.1)\n"
     ]
    }
   ],
   "source": [
    "!pip install nltk"
   ]
  },
  {
   "cell_type": "code",
   "execution_count": 2,
   "metadata": {
    "executionInfo": {
     "elapsed": 11941,
     "status": "ok",
     "timestamp": 1738846863219,
     "user": {
      "displayName": "CampusX",
      "userId": "17274569631252575216"
     },
     "user_tz": -330
    },
    "id": "ae7dunqczT8Q"
   },
   "outputs": [],
   "source": [
    "import torch\n",
    "import torch.nn as nn\n",
    "import torch.optim as optim\n",
    "import numpy as np\n",
    "from collections import Counter\n",
    "from torch.utils.data import Dataset, DataLoader\n",
    "from nltk.tokenize import word_tokenize\n",
    "import nltk"
   ]
  },
  {
   "cell_type": "code",
   "execution_count": null,
   "metadata": {
    "executionInfo": {
     "elapsed": 5,
     "status": "ok",
     "timestamp": 1738846863220,
     "user": {
      "displayName": "CampusX",
      "userId": "17274569631252575216"
     },
     "user_tz": -330
    },
    "id": "fLwm0Y_MzVuh"
   },
   "outputs": [],
   "source": [
    "document = \"\"\"Data\"\"\"\n"
   ]
  },
  {
   "cell_type": "code",
   "execution_count": 4,
   "metadata": {
    "colab": {
     "base_uri": "https://localhost:8080/"
    },
    "executionInfo": {
     "elapsed": 1208,
     "status": "ok",
     "timestamp": 1738846866875,
     "user": {
      "displayName": "CampusX",
      "userId": "17274569631252575216"
     },
     "user_tz": -330
    },
    "id": "MMU_RwfbzXt4",
    "outputId": "7fe012b9-4425-46b0-f109-e3174731f277"
   },
   "outputs": [
    {
     "name": "stderr",
     "output_type": "stream",
     "text": [
      "[nltk_data] Downloading package punkt to /root/nltk_data...\n",
      "[nltk_data]   Unzipping tokenizers/punkt.zip.\n",
      "[nltk_data] Downloading package punkt_tab to /root/nltk_data...\n",
      "[nltk_data]   Unzipping tokenizers/punkt_tab.zip.\n"
     ]
    },
    {
     "data": {
      "text/plain": [
       "True"
      ]
     },
     "execution_count": 4,
     "metadata": {},
     "output_type": "execute_result"
    }
   ],
   "source": [
    "# Tokenization\n",
    "nltk.download('punkt')\n",
    "nltk.download('punkt_tab')"
   ]
  },
  {
   "cell_type": "code",
   "execution_count": 5,
   "metadata": {
    "executionInfo": {
     "elapsed": 3,
     "status": "ok",
     "timestamp": 1738846868655,
     "user": {
      "displayName": "CampusX",
      "userId": "17274569631252575216"
     },
     "user_tz": -330
    },
    "id": "t28bgAcszaHl"
   },
   "outputs": [],
   "source": [
    "# tokenize\n",
    "tokens = word_tokenize(document.lower())"
   ]
  },
  {
   "cell_type": "code",
   "execution_count": 6,
   "metadata": {
    "colab": {
     "base_uri": "https://localhost:8080/"
    },
    "executionInfo": {
     "elapsed": 2,
     "status": "ok",
     "timestamp": 1738846870320,
     "user": {
      "displayName": "CampusX",
      "userId": "17274569631252575216"
     },
     "user_tz": -330
    },
    "id": "G30GxEjgzcfY",
    "outputId": "63c6bf46-c4de-4126-8c12-5f574f70a545"
   },
   "outputs": [
    {
     "data": {
      "text/plain": [
       "{'<unk>': 0,\n",
       " 'about': 1,\n",
       " 'the': 2,\n",
       " 'program': 3,\n",
       " 'what': 4,\n",
       " 'is': 5,\n",
       " 'course': 6,\n",
       " 'fee': 7,\n",
       " 'for': 8,\n",
       " 'data': 9,\n",
       " 'science': 10,\n",
       " 'mentorship': 11,\n",
       " '(': 12,\n",
       " 'dsmp': 13,\n",
       " '2023': 14,\n",
       " ')': 15,\n",
       " 'follows': 16,\n",
       " 'a': 17,\n",
       " 'monthly': 18,\n",
       " 'subscription': 19,\n",
       " 'model': 20,\n",
       " 'where': 21,\n",
       " 'you': 22,\n",
       " 'have': 23,\n",
       " 'to': 24,\n",
       " 'make': 25,\n",
       " 'payments': 26,\n",
       " 'of': 27,\n",
       " 'rs': 28,\n",
       " '799/month': 29,\n",
       " '.': 30,\n",
       " 'total': 31,\n",
       " 'duration': 32,\n",
       " '?': 33,\n",
       " '7': 34,\n",
       " 'months': 35,\n",
       " 'so': 36,\n",
       " 'becomes': 37,\n",
       " '799': 38,\n",
       " '*': 39,\n",
       " '=': 40,\n",
       " '5600': 41,\n",
       " 'approx': 42,\n",
       " 'syllabus': 43,\n",
       " 'we': 44,\n",
       " 'will': 45,\n",
       " 'be': 46,\n",
       " 'covering': 47,\n",
       " 'following': 48,\n",
       " 'modules': 49,\n",
       " ':': 50,\n",
       " 'python': 51,\n",
       " 'fundamentals': 52,\n",
       " 'libraries': 53,\n",
       " 'analysis': 54,\n",
       " 'sql': 55,\n",
       " 'maths': 56,\n",
       " 'machine': 57,\n",
       " 'learning': 58,\n",
       " 'ml': 59,\n",
       " 'algorithms': 60,\n",
       " 'practical': 61,\n",
       " 'mlops': 62,\n",
       " 'case': 63,\n",
       " 'studies': 64,\n",
       " 'can': 65,\n",
       " 'check': 66,\n",
       " 'detailed': 67,\n",
       " 'here': 68,\n",
       " '-': 69,\n",
       " 'https': 70,\n",
       " '//learnwith.campusx.in/courses/campusx-data-science-mentorship-program-637339afe4b0615a1bbed390': 71,\n",
       " 'deep': 72,\n",
       " 'and': 73,\n",
       " 'nlp': 74,\n",
       " 'part': 75,\n",
       " 'this': 76,\n",
       " 'no': 77,\n",
       " ',': 78,\n",
       " 'both': 79,\n",
       " 'are': 80,\n",
       " 'not': 81,\n",
       " '’': 82,\n",
       " 's': 83,\n",
       " 'curriculum': 84,\n",
       " 'if': 85,\n",
       " 'i': 86,\n",
       " 'miss': 87,\n",
       " 'live': 88,\n",
       " 'session': 89,\n",
       " 'get': 90,\n",
       " 'recording': 91,\n",
       " 'yes': 92,\n",
       " 'all': 93,\n",
       " 'our': 94,\n",
       " 'sessions': 95,\n",
       " 'recorded': 96,\n",
       " 'even': 97,\n",
       " 'go': 98,\n",
       " 'back': 99,\n",
       " 'watch': 100,\n",
       " 'find': 101,\n",
       " 'class': 102,\n",
       " 'schedule': 103,\n",
       " 'checkout': 104,\n",
       " 'google': 105,\n",
       " 'sheet': 106,\n",
       " 'see': 107,\n",
       " 'month': 108,\n",
       " 'by': 109,\n",
       " 'time': 110,\n",
       " 'table': 111,\n",
       " '//docs.google.com/spreadsheets/d/16ootax_a6oraecg4emgexhqqpv3noqpyku7rj6arozk/edit': 112,\n",
       " 'usp=sharing': 113,\n",
       " 'roughly': 114,\n",
       " 'last': 115,\n",
       " '2': 116,\n",
       " 'hours': 117,\n",
       " 'language': 118,\n",
       " 'spoken': 119,\n",
       " 'instructor': 120,\n",
       " 'during': 121,\n",
       " 'hinglish': 122,\n",
       " 'how': 123,\n",
       " 'informed': 124,\n",
       " 'upcoming': 125,\n",
       " 'mail': 126,\n",
       " 'from': 127,\n",
       " 'side': 128,\n",
       " 'before': 129,\n",
       " 'every': 130,\n",
       " 'paid': 131,\n",
       " 'once': 132,\n",
       " 'become': 133,\n",
       " 'user': 134,\n",
       " 'do': 135,\n",
       " 'am': 136,\n",
       " 'non-tech': 137,\n",
       " 'background': 138,\n",
       " 'absolutely': 139,\n",
       " 'late': 140,\n",
       " 'join': 141,\n",
       " 'in': 142,\n",
       " 'middle': 143,\n",
       " 'anytime': 144,\n",
       " 'join/pay': 145,\n",
       " 'able': 146,\n",
       " 'past': 147,\n",
       " 'lectures': 148,\n",
       " 'payment': 149,\n",
       " 'content': 150,\n",
       " 'your': 151,\n",
       " 'dashboard': 152,\n",
       " 'submit': 153,\n",
       " 'task': 154,\n",
       " 'don': 155,\n",
       " 't': 156,\n",
       " 'provide': 157,\n",
       " 'with': 158,\n",
       " 'solutions': 159,\n",
       " 'self': 160,\n",
       " 'evaluate': 161,\n",
       " 'yourself': 162,\n",
       " 'contact': 163,\n",
       " 'us': 164,\n",
       " 'at': 165,\n",
       " 'nitish.campusx': 166,\n",
       " '@': 167,\n",
       " 'gmail.com': 168,\n",
       " 'payment/registration': 169,\n",
       " 'related': 170,\n",
       " 'questions': 171,\n",
       " 'youtube': 172,\n",
       " 'channel': 173,\n",
       " 'or': 174,\n",
       " 'website': 175,\n",
       " 'on': 176,\n",
       " 'link': 177,\n",
       " '//learnwith.campusx.in/': 178,\n",
       " 'pay': 179,\n",
       " 'entire': 180,\n",
       " 'amount': 181,\n",
       " 'unfortunately': 182,\n",
       " 'validity': 183,\n",
       " 'suppose': 184,\n",
       " '15th': 185,\n",
       " 'jan': 186,\n",
       " 'then': 187,\n",
       " 'again': 188,\n",
       " '1st': 189,\n",
       " 'feb': 190,\n",
       " 'feb.': 191,\n",
       " 'period': 192,\n",
       " '30': 193,\n",
       " 'days': 194,\n",
       " 'day': 195,\n",
       " 'essentially': 196,\n",
       " 'wait': 197,\n",
       " 'end': 198,\n",
       " 'like': 199,\n",
       " 'after': 200,\n",
       " 'making': 201,\n",
       " 'refund': 202,\n",
       " 'policy': 203,\n",
       " 'made': 204,\n",
       " 'living': 205,\n",
       " 'outside': 206,\n",
       " 'india': 207,\n",
       " 'should': 208,\n",
       " 'sending': 209,\n",
       " 'post': 210,\n",
       " 'registration': 211,\n",
       " 'queries': 212,\n",
       " 'till': 213,\n",
       " 'when': 214,\n",
       " 'view': 215,\n",
       " 'videos': 216,\n",
       " 'one': 217,\n",
       " 'tricky': 218,\n",
       " 'read': 219,\n",
       " 'carefully': 220,\n",
       " 'valid': 221,\n",
       " 'purchased': 222,\n",
       " '21st': 223,\n",
       " '20th': 224,\n",
       " 'but': 225,\n",
       " 'purchase': 226,\n",
       " 'over': 227,\n",
       " 'installments': 228,\n",
       " 'aug': 229,\n",
       " '2024.': 230,\n",
       " 'why': 231,\n",
       " 'lifetime': 232,\n",
       " 'provided': 233,\n",
       " 'because': 234,\n",
       " 'low': 235,\n",
       " 'reach': 236,\n",
       " 'out': 237,\n",
       " 'doubt': 238,\n",
       " 'fill': 239,\n",
       " 'form': 240,\n",
       " 'team': 241,\n",
       " '1': 242,\n",
       " 'clearance': 243,\n",
       " 'still': 244,\n",
       " 'ask': 245,\n",
       " 'week': 246,\n",
       " 'doubts': 247,\n",
       " 'just': 248,\n",
       " 'select': 249,\n",
       " 'gmai.com': 250,\n",
       " 'certificate': 251,\n",
       " 'placement': 252,\n",
       " 'assistance': 253,\n",
       " 'criteria': 254,\n",
       " 'there': 255,\n",
       " 'criterias': 256,\n",
       " 'attempt': 257,\n",
       " 'assessments': 258,\n",
       " 'joining': 259,\n",
       " 'earlier': 260,\n",
       " 'current': 261,\n",
       " 'that': 262,\n",
       " 'comes': 263,\n",
       " 'under': 264,\n",
       " 'clarify': 265,\n",
       " 'does': 266,\n",
       " 'mean': 267,\n",
       " 'guarantee': 268,\n",
       " 'dont': 269,\n",
       " 'any': 270,\n",
       " 'jobs': 271,\n",
       " 'matter': 272,\n",
       " 'interview': 273,\n",
       " 'calls': 274,\n",
       " 'planning': 275,\n",
       " 'placements': 276,\n",
       " 'afraid': 277,\n",
       " 'disappointed': 278,\n",
       " 'portfolio': 279,\n",
       " 'building': 280,\n",
       " 'soft': 281,\n",
       " 'skill': 282,\n",
       " 'industry': 283,\n",
       " 'mentors': 284,\n",
       " 'discussion': 285,\n",
       " 'job': 286,\n",
       " 'hunting': 287,\n",
       " 'strategies': 288}"
      ]
     },
     "execution_count": 6,
     "metadata": {},
     "output_type": "execute_result"
    }
   ],
   "source": [
    "# build vocab\n",
    "vocab = {'<unk>':0}\n",
    "\n",
    "for token in Counter(tokens).keys():\n",
    "  if token not in vocab:\n",
    "    vocab[token] = len(vocab)\n",
    "\n",
    "vocab"
   ]
  },
  {
   "cell_type": "code",
   "execution_count": 7,
   "metadata": {
    "colab": {
     "base_uri": "https://localhost:8080/"
    },
    "executionInfo": {
     "elapsed": 4,
     "status": "ok",
     "timestamp": 1738846872164,
     "user": {
      "displayName": "CampusX",
      "userId": "17274569631252575216"
     },
     "user_tz": -330
    },
    "id": "SOOEZ94P0dQ1",
    "outputId": "0cd5b6e3-442b-4cc4-b6ed-241f4f7360d8"
   },
   "outputs": [
    {
     "data": {
      "text/plain": [
       "289"
      ]
     },
     "execution_count": 7,
     "metadata": {},
     "output_type": "execute_result"
    }
   ],
   "source": [
    "len(vocab)"
   ]
  },
  {
   "cell_type": "code",
   "execution_count": 8,
   "metadata": {
    "executionInfo": {
     "elapsed": 2,
     "status": "ok",
     "timestamp": 1738846873767,
     "user": {
      "displayName": "CampusX",
      "userId": "17274569631252575216"
     },
     "user_tz": -330
    },
    "id": "RefNavJe1Cva"
   },
   "outputs": [],
   "source": [
    "input_sentences = document.split('\\n')"
   ]
  },
  {
   "cell_type": "code",
   "execution_count": 9,
   "metadata": {
    "executionInfo": {
     "elapsed": 3,
     "status": "ok",
     "timestamp": 1738846875593,
     "user": {
      "displayName": "CampusX",
      "userId": "17274569631252575216"
     },
     "user_tz": -330
    },
    "id": "x52A3E1K1zjn"
   },
   "outputs": [],
   "source": [
    "def text_to_indices(sentence, vocab):\n",
    "\n",
    "  numerical_sentence = []\n",
    "\n",
    "  for token in sentence:\n",
    "    if token in vocab:\n",
    "      numerical_sentence.append(vocab[token])\n",
    "    else:\n",
    "      numerical_sentence.append(vocab['<unk>'])\n",
    "\n",
    "  return numerical_sentence\n"
   ]
  },
  {
   "cell_type": "code",
   "execution_count": 10,
   "metadata": {
    "executionInfo": {
     "elapsed": 3,
     "status": "ok",
     "timestamp": 1738846877177,
     "user": {
      "displayName": "CampusX",
      "userId": "17274569631252575216"
     },
     "user_tz": -330
    },
    "id": "eu66Zo3e1Wh9"
   },
   "outputs": [],
   "source": [
    "input_numerical_sentences = []\n",
    "\n",
    "for sentence in input_sentences:\n",
    "  input_numerical_sentences.append(text_to_indices(word_tokenize(sentence.lower()), vocab))\n"
   ]
  },
  {
   "cell_type": "code",
   "execution_count": 11,
   "metadata": {
    "colab": {
     "base_uri": "https://localhost:8080/"
    },
    "executionInfo": {
     "elapsed": 3,
     "status": "ok",
     "timestamp": 1738846878957,
     "user": {
      "displayName": "CampusX",
      "userId": "17274569631252575216"
     },
     "user_tz": -330
    },
    "id": "XxJesAQC1et3",
    "outputId": "14e297a6-4d7e-4ead-964f-7d48d65ff4fb"
   },
   "outputs": [
    {
     "data": {
      "text/plain": [
       "78"
      ]
     },
     "execution_count": 11,
     "metadata": {},
     "output_type": "execute_result"
    }
   ],
   "source": [
    "len(input_numerical_sentences)"
   ]
  },
  {
   "cell_type": "code",
   "execution_count": 12,
   "metadata": {
    "executionInfo": {
     "elapsed": 3,
     "status": "ok",
     "timestamp": 1738846880619,
     "user": {
      "displayName": "CampusX",
      "userId": "17274569631252575216"
     },
     "user_tz": -330
    },
    "id": "80rIx4aq6ele"
   },
   "outputs": [],
   "source": [
    "training_sequence = []\n",
    "for sentence in input_numerical_sentences:\n",
    "\n",
    "  for i in range(1, len(sentence)):\n",
    "    training_sequence.append(sentence[:i+1])"
   ]
  },
  {
   "cell_type": "code",
   "execution_count": 13,
   "metadata": {
    "colab": {
     "base_uri": "https://localhost:8080/"
    },
    "executionInfo": {
     "elapsed": 3,
     "status": "ok",
     "timestamp": 1738846882506,
     "user": {
      "displayName": "CampusX",
      "userId": "17274569631252575216"
     },
     "user_tz": -330
    },
    "id": "V_aGJ0fy7swk",
    "outputId": "97d50462-db1e-4f04-c628-b7d258d7e482"
   },
   "outputs": [
    {
     "data": {
      "text/plain": [
       "942"
      ]
     },
     "execution_count": 13,
     "metadata": {},
     "output_type": "execute_result"
    }
   ],
   "source": [
    "len(training_sequence)"
   ]
  },
  {
   "cell_type": "code",
   "execution_count": 14,
   "metadata": {
    "colab": {
     "base_uri": "https://localhost:8080/"
    },
    "executionInfo": {
     "elapsed": 3,
     "status": "ok",
     "timestamp": 1738846884190,
     "user": {
      "displayName": "CampusX",
      "userId": "17274569631252575216"
     },
     "user_tz": -330
    },
    "id": "wrFzZ4DD8Anu",
    "outputId": "bead6f75-7984-4879-e7d6-e8a2f81530ea"
   },
   "outputs": [
    {
     "data": {
      "text/plain": [
       "[[1, 2], [1, 2, 3], [4, 5], [4, 5, 2], [4, 5, 2, 6]]"
      ]
     },
     "execution_count": 14,
     "metadata": {},
     "output_type": "execute_result"
    }
   ],
   "source": [
    "training_sequence[:5]"
   ]
  },
  {
   "cell_type": "code",
   "execution_count": 15,
   "metadata": {
    "colab": {
     "base_uri": "https://localhost:8080/"
    },
    "executionInfo": {
     "elapsed": 3,
     "status": "ok",
     "timestamp": 1738846885853,
     "user": {
      "displayName": "CampusX",
      "userId": "17274569631252575216"
     },
     "user_tz": -330
    },
    "id": "q2Z_fiVZ8GRo",
    "outputId": "dc0971ee-ecb8-4061-c6aa-c5d751bb1da0"
   },
   "outputs": [
    {
     "data": {
      "text/plain": [
       "62"
      ]
     },
     "execution_count": 15,
     "metadata": {},
     "output_type": "execute_result"
    }
   ],
   "source": [
    "len_list = []\n",
    "\n",
    "for sequence in training_sequence:\n",
    "  len_list.append(len(sequence))\n",
    "\n",
    "max(len_list)"
   ]
  },
  {
   "cell_type": "code",
   "execution_count": 16,
   "metadata": {
    "colab": {
     "base_uri": "https://localhost:8080/"
    },
    "executionInfo": {
     "elapsed": 3,
     "status": "ok",
     "timestamp": 1738846887660,
     "user": {
      "displayName": "CampusX",
      "userId": "17274569631252575216"
     },
     "user_tz": -330
    },
    "id": "4bIcIRd088EN",
    "outputId": "b4781829-742e-4764-f122-f143310af51b"
   },
   "outputs": [
    {
     "data": {
      "text/plain": [
       "[1, 2]"
      ]
     },
     "execution_count": 16,
     "metadata": {},
     "output_type": "execute_result"
    }
   ],
   "source": [
    "training_sequence[0]"
   ]
  },
  {
   "cell_type": "code",
   "execution_count": 17,
   "metadata": {
    "executionInfo": {
     "elapsed": 2,
     "status": "ok",
     "timestamp": 1738846889229,
     "user": {
      "displayName": "CampusX",
      "userId": "17274569631252575216"
     },
     "user_tz": -330
    },
    "id": "dtPg5uRN9Cc7"
   },
   "outputs": [],
   "source": [
    "padded_training_sequence = []\n",
    "for sequence in training_sequence:\n",
    "\n",
    "  padded_training_sequence.append([0]*(max(len_list) - len(sequence)) + sequence)"
   ]
  },
  {
   "cell_type": "code",
   "execution_count": 18,
   "metadata": {
    "colab": {
     "base_uri": "https://localhost:8080/"
    },
    "executionInfo": {
     "elapsed": 5,
     "status": "ok",
     "timestamp": 1738846890759,
     "user": {
      "displayName": "CampusX",
      "userId": "17274569631252575216"
     },
     "user_tz": -330
    },
    "id": "hqZssF989X-4",
    "outputId": "48e3413e-fd8d-4226-c3df-6f5031514c5e"
   },
   "outputs": [
    {
     "data": {
      "text/plain": [
       "62"
      ]
     },
     "execution_count": 18,
     "metadata": {},
     "output_type": "execute_result"
    }
   ],
   "source": [
    "len(padded_training_sequence[10])"
   ]
  },
  {
   "cell_type": "code",
   "execution_count": 19,
   "metadata": {
    "executionInfo": {
     "elapsed": 4,
     "status": "ok",
     "timestamp": 1738846892498,
     "user": {
      "displayName": "CampusX",
      "userId": "17274569631252575216"
     },
     "user_tz": -330
    },
    "id": "0_wVpepb9iE4"
   },
   "outputs": [],
   "source": [
    "padded_training_sequence = torch.tensor(padded_training_sequence, dtype=torch.long)"
   ]
  },
  {
   "cell_type": "code",
   "execution_count": 20,
   "metadata": {
    "colab": {
     "base_uri": "https://localhost:8080/"
    },
    "executionInfo": {
     "elapsed": 3,
     "status": "ok",
     "timestamp": 1738846894674,
     "user": {
      "displayName": "CampusX",
      "userId": "17274569631252575216"
     },
     "user_tz": -330
    },
    "id": "ogKvdXa79yxV",
    "outputId": "b426db0b-fdca-41f9-818e-a237c229f7d4"
   },
   "outputs": [
    {
     "data": {
      "text/plain": [
       "tensor([[  0,   0,   0,  ...,   0,   1,   2],\n",
       "        [  0,   0,   0,  ...,   1,   2,   3],\n",
       "        [  0,   0,   0,  ...,   0,   4,   5],\n",
       "        ...,\n",
       "        [  0,   0,   0,  ..., 285, 176, 286],\n",
       "        [  0,   0,   0,  ..., 176, 286, 287],\n",
       "        [  0,   0,   0,  ..., 286, 287, 288]])"
      ]
     },
     "execution_count": 20,
     "metadata": {},
     "output_type": "execute_result"
    }
   ],
   "source": [
    "padded_training_sequence"
   ]
  },
  {
   "cell_type": "code",
   "execution_count": 21,
   "metadata": {
    "executionInfo": {
     "elapsed": 2,
     "status": "ok",
     "timestamp": 1738846896406,
     "user": {
      "displayName": "CampusX",
      "userId": "17274569631252575216"
     },
     "user_tz": -330
    },
    "id": "Tz8fwCok90m0"
   },
   "outputs": [],
   "source": [
    "X = padded_training_sequence[:, :-1]\n",
    "y = padded_training_sequence[:,-1]"
   ]
  },
  {
   "cell_type": "code",
   "execution_count": 22,
   "metadata": {
    "colab": {
     "base_uri": "https://localhost:8080/"
    },
    "executionInfo": {
     "elapsed": 6,
     "status": "ok",
     "timestamp": 1738846897764,
     "user": {
      "displayName": "CampusX",
      "userId": "17274569631252575216"
     },
     "user_tz": -330
    },
    "id": "1Ed_PLHJ-Dgv",
    "outputId": "7095458b-a2e8-4dc7-f150-80fd56d2c281"
   },
   "outputs": [
    {
     "data": {
      "text/plain": [
       "tensor([[  0,   0,   0,  ...,   0,   0,   1],\n",
       "        [  0,   0,   0,  ...,   0,   1,   2],\n",
       "        [  0,   0,   0,  ...,   0,   0,   4],\n",
       "        ...,\n",
       "        [  0,   0,   0,  ...,   0, 285, 176],\n",
       "        [  0,   0,   0,  ..., 285, 176, 286],\n",
       "        [  0,   0,   0,  ..., 176, 286, 287]])"
      ]
     },
     "execution_count": 22,
     "metadata": {},
     "output_type": "execute_result"
    }
   ],
   "source": [
    "X"
   ]
  },
  {
   "cell_type": "code",
   "execution_count": 23,
   "metadata": {
    "colab": {
     "base_uri": "https://localhost:8080/"
    },
    "executionInfo": {
     "elapsed": 8,
     "status": "ok",
     "timestamp": 1738846899882,
     "user": {
      "displayName": "CampusX",
      "userId": "17274569631252575216"
     },
     "user_tz": -330
    },
    "id": "eReVrcX9-EUU",
    "outputId": "f2cca2e3-da31-4ef5-bc13-593203462048"
   },
   "outputs": [
    {
     "data": {
      "text/plain": [
       "tensor([  2,   3,   5,   2,   6,   7,   8,   9,  10,  11,   3,  12,  13,  14,\n",
       "         15,   6,  16,  17,  18,  19,  20,  21,  22,  23,  24,  25,  18,  26,\n",
       "         27,  28,  29,  30,   5,   2,  31,  32,  27,   2,   6,  33,  31,  32,\n",
       "         27,   2,   6,   5,  34,  35,  30,  36,   2,  31,   6,   7,  37,  38,\n",
       "         39,  34,  40,  28,  41,  12,  42,  30,  15,   5,   2,  43,  27,   2,\n",
       "         11,   3,  33,  45,  46,  47,   2,  48,  49,  50,  52,  53,   8,   9,\n",
       "         10,  54,   8,   9,  10,   8,  57,  58,  60,  59,  64,  65,  66,   2,\n",
       "         67,  43,  68,  69,  70,  50,  71,  72,  58,  73,  74,  46,  17,  75,\n",
       "         27,  76,   3,  33,  78,  74,  73,  72,  58,  79,  80,  81,  17,  75,\n",
       "         27,  76,   3,  82,  83,  84,  30,  85,  86,  87,  17,  88,  89,  33,\n",
       "         45,  86,  90,  17,  91,  27,   2,  89,  33,  93,  94,  95,  80,  96,\n",
       "         78,  36,  97,  85,  22,  87,  17,  89,  22,  65,  98,  99,  73, 100,\n",
       "          2,  91,  30,  65,  86, 101,   2, 102, 103,  33,  76, 105, 106,  24,\n",
       "        107, 108, 109, 108, 110, 111,  27,   2,   6,  69,  70,  50, 112,  33,\n",
       "        113,  30,   5,   2, 110,  32,  27,  93,   2,  88,  95,  33,  78,  93,\n",
       "          2,  95, 115, 116, 117,  30,   5,   2, 118, 119, 109,   2, 120, 121,\n",
       "          2,  95,  33,  45,  86,  46, 124,   1,   2, 125, 102,  33,  45,  90,\n",
       "         17, 126, 127,  94, 128, 129, 130, 131,  89, 132,  22, 133,  17, 131,\n",
       "        134,  30,  86, 135,  76,   6,  85,  86, 136, 127,  17, 137, 138,  33,\n",
       "         78, 139,  30, 136, 140,  78,  65,  86, 141,   2,   3, 142,   2, 143,\n",
       "         33,  78,  22,  65, 141,   2,   3, 144,  30,  86, 145, 142,   2, 143,\n",
       "         78,  45,  86,  46, 146,  24, 107,  93,   2, 147, 148,  33,  78, 132,\n",
       "         22,  25,   2, 149,  22,  45,  46, 146,  24, 107,  93,   2, 147, 150,\n",
       "        142, 151, 152,  30, 135,  86,  23,  24, 153,   2, 154,  33, 155,  82,\n",
       "        156,  23,  24, 153,   2, 154,  30,  44,  45, 157,  22, 158,   2, 159,\n",
       "         78,  22,  23,  24, 160, 161,   2, 154, 162,  30,  44, 135,  63,  64,\n",
       "        142,   2,   3,  33,  30,  65,  44, 163,  22,  33,  65, 126, 164, 165,\n",
       "        166, 167, 168, 170, 171, 135,  44,  23,  24,  25,  94,  26,  33, 151,\n",
       "        172, 173, 174, 175,  33,  23,  24,  25,  93, 151,  18,  26, 176,  94,\n",
       "        175,  30,  68,   5,   2, 177,   8,  94, 175,  69,  70,  50, 178,  44,\n",
       "        179,   2, 180, 181,  27,  28,  41,  93, 165, 132,  33,  77,  78,   2,\n",
       "          3,  16,  17,  18,  19,  20,  30,   5,   2, 183,  27,  18,  19,  33,\n",
       "        184,  85,  86, 179, 176, 185, 186,  78, 187, 135,  86,  23,  24, 179,\n",
       "        188, 176, 189, 190, 174, 185, 190, 191,   2, 183, 192,   5, 193, 194,\n",
       "        127,   2, 195,  22,  25,   2, 149,  30,  36, 196,  22,  65, 141, 144,\n",
       "         22, 155,  82, 156,  23,  24, 197,   8,  17, 108,  24, 198,  30,  85,\n",
       "         86, 155,  82, 156, 199,   2,   6, 200, 201,   2, 149,  30,   4,   5,\n",
       "          2, 202, 203,  33,  90,  17,  34, 194, 202, 192, 127,   2, 195,  22,\n",
       "         23, 204,   2, 149,  30, 136, 205, 206, 207,  73,  86, 136,  81, 146,\n",
       "         24,  25,   2, 149, 176,   2, 175,  78,   4, 208,  86, 135,  33,  23,\n",
       "         24, 163, 164, 109, 209,  17, 126, 165, 166, 167, 168, 211, 212, 214,\n",
       "         65,  86, 215,   2, 131, 216, 176,   2, 175,  33, 217,   5, 218,  78,\n",
       "         36, 219, 220,  30,  22,  65, 100,   2, 216, 213, 151,  19,   5, 221,\n",
       "         30, 184,  22,  23, 222,  19, 176, 223, 186,  78,  22,  45,  46, 146,\n",
       "         24, 100,  93,   2, 147, 131,  95, 142,   2, 192,  27, 223, 186,  24,\n",
       "        224, 191, 225, 200, 223, 190,  22,  45,  23,  24, 226,   2,  19, 188,\n",
       "         30, 132,   2,   6,   5, 227,  73,  22,  23, 131, 164,  28,  41,  12,\n",
       "        174,  34, 228,  27,  28,  38,  15,  22,  45,  46, 146,  24, 100,   2,\n",
       "        131,  95, 213, 229,   0,  30, 232, 183,   5,  81, 233,  33,  27,   2,\n",
       "        235,   6,   7,  30,  65,  86, 236, 237, 142,  63,  27,  17, 238, 200,\n",
       "          2,  89,  33,  45,  23,  24, 239,  17, 105, 240, 233, 142, 151, 152,\n",
       "         73,  94, 241,  45, 163,  22,   8,  17, 242, 176, 242, 238, 243,  89,\n",
       "         86, 141,   2,   3, 140,  78,  65,  86, 244, 245, 147, 246, 247,  33,\n",
       "         78, 248, 249, 147, 246, 238, 142,   2, 238, 243, 105, 240,  30, 136,\n",
       "        205, 206, 207,  73,  86, 136,  81, 146,  24,  25,   2, 149, 176,   2,\n",
       "        175,  78,   4, 208,  86, 135,  33,  23,  24, 163, 164, 109, 209,  17,\n",
       "        126, 165, 166, 167, 250,  73, 252, 253, 170, 212,   5,   2, 254,  24,\n",
       "         90,   2, 251,  33,  80, 116, 256,  50,  23,  24, 179,   2, 180,   7,\n",
       "         27,  28,  41,  23,  24, 257,  93,   2,   6, 258,  30, 136, 259, 140,\n",
       "         30, 123,  65,  86, 179, 149,  27,   2, 260,  35,  33,  45,  90,  17,\n",
       "        177,  24, 179,   7,  27, 260,  35, 142, 151, 152, 132,  22, 179,   8,\n",
       "          2, 261, 108,  30,  23, 219, 262, 252, 253,   5,  17,  75,  27,  76,\n",
       "          3,  30,   4, 263, 264, 252, 253,  33,   5,  24, 265, 262, 252, 253,\n",
       "        266,  81, 267, 252, 268,  30,  36,  44, 269, 268,  22, 270, 271, 174,\n",
       "          8, 262, 272,  97, 273, 274,  30,  36,  85,  22,  80, 275,  24, 141,\n",
       "         76,   6, 248,   8, 276,  78,  86, 136, 277,  22,  45,  46, 278,  30,\n",
       "         68,   5,   4, 263, 264, 252, 253, 280,  95, 282,  95, 158, 283, 284,\n",
       "        176, 286, 287, 288])"
      ]
     },
     "execution_count": 23,
     "metadata": {},
     "output_type": "execute_result"
    }
   ],
   "source": [
    "y"
   ]
  },
  {
   "cell_type": "code",
   "execution_count": 24,
   "metadata": {
    "executionInfo": {
     "elapsed": 3,
     "status": "ok",
     "timestamp": 1738846901764,
     "user": {
      "displayName": "CampusX",
      "userId": "17274569631252575216"
     },
     "user_tz": -330
    },
    "id": "fR059hVd-IAf"
   },
   "outputs": [],
   "source": [
    "class CustomDataset(Dataset):\n",
    "\n",
    "  def __init__(self, X, y):\n",
    "    self.X = X\n",
    "    self.y = y\n",
    "\n",
    "  def __len__(self):\n",
    "    return self.X.shape[0]\n",
    "\n",
    "  def __getitem__(self, idx):\n",
    "    return self.X[idx], self.y[idx]"
   ]
  },
  {
   "cell_type": "code",
   "execution_count": 25,
   "metadata": {
    "executionInfo": {
     "elapsed": 5,
     "status": "ok",
     "timestamp": 1738846903435,
     "user": {
      "displayName": "CampusX",
      "userId": "17274569631252575216"
     },
     "user_tz": -330
    },
    "id": "KLX0clQM_j9r"
   },
   "outputs": [],
   "source": [
    "dataset = CustomDataset(X,y)"
   ]
  },
  {
   "cell_type": "code",
   "execution_count": 26,
   "metadata": {
    "colab": {
     "base_uri": "https://localhost:8080/"
    },
    "executionInfo": {
     "elapsed": 3,
     "status": "ok",
     "timestamp": 1738846905001,
     "user": {
      "displayName": "CampusX",
      "userId": "17274569631252575216"
     },
     "user_tz": -330
    },
    "id": "uYHaeSuI_nJX",
    "outputId": "57ddf3b7-c7d8-4896-813b-e438692f94a4"
   },
   "outputs": [
    {
     "data": {
      "text/plain": [
       "942"
      ]
     },
     "execution_count": 26,
     "metadata": {},
     "output_type": "execute_result"
    }
   ],
   "source": [
    "len(dataset)"
   ]
  },
  {
   "cell_type": "code",
   "execution_count": 27,
   "metadata": {
    "executionInfo": {
     "elapsed": 2,
     "status": "ok",
     "timestamp": 1738846906984,
     "user": {
      "displayName": "CampusX",
      "userId": "17274569631252575216"
     },
     "user_tz": -330
    },
    "id": "7ZUeD3l6_oZ3"
   },
   "outputs": [],
   "source": [
    "dataloader = DataLoader(dataset, batch_size=32, shuffle=True)"
   ]
  },
  {
   "cell_type": "code",
   "execution_count": 28,
   "metadata": {
    "executionInfo": {
     "elapsed": 2,
     "status": "ok",
     "timestamp": 1738846908836,
     "user": {
      "displayName": "CampusX",
      "userId": "17274569631252575216"
     },
     "user_tz": -330
    },
    "id": "0TEukXmWDEn8"
   },
   "outputs": [],
   "source": [
    "class LSTMModel(nn.Module):\n",
    "\n",
    "  def __init__(self, vocab_size):\n",
    "    super().__init__()\n",
    "    self.embedding = nn.Embedding(vocab_size, 100)\n",
    "    self.lstm = nn.LSTM(100, 150, batch_first=True)\n",
    "    self.fc = nn.Linear(150, vocab_size)\n",
    "\n",
    "  def forward(self, x):\n",
    "    embedded = self.embedding(x)\n",
    "    intermediate_hidden_states, (final_hidden_state, final_cell_state) = self.lstm(embedded)\n",
    "    output = self.fc(final_hidden_state.squeeze(0))\n",
    "    return output"
   ]
  },
  {
   "cell_type": "code",
   "execution_count": 29,
   "metadata": {
    "executionInfo": {
     "elapsed": 1,
     "status": "ok",
     "timestamp": 1738846910284,
     "user": {
      "displayName": "CampusX",
      "userId": "17274569631252575216"
     },
     "user_tz": -330
    },
    "id": "YcQEVc9aVgr5"
   },
   "outputs": [],
   "source": [
    "model = LSTMModel(len(vocab))"
   ]
  },
  {
   "cell_type": "code",
   "execution_count": 30,
   "metadata": {
    "executionInfo": {
     "elapsed": 2,
     "status": "ok",
     "timestamp": 1738846911898,
     "user": {
      "displayName": "CampusX",
      "userId": "17274569631252575216"
     },
     "user_tz": -330
    },
    "id": "Lvm7W6L1X6P1"
   },
   "outputs": [],
   "source": [
    "device = torch.device(\"cuda\" if torch.cuda.is_available() else \"cpu\")"
   ]
  },
  {
   "cell_type": "code",
   "execution_count": 31,
   "metadata": {
    "colab": {
     "base_uri": "https://localhost:8080/"
    },
    "executionInfo": {
     "elapsed": 2,
     "status": "ok",
     "timestamp": 1738846913477,
     "user": {
      "displayName": "CampusX",
      "userId": "17274569631252575216"
     },
     "user_tz": -330
    },
    "id": "oXwq43NRYD3q",
    "outputId": "bfa82df5-0594-44e9-beb7-87c24db3c007"
   },
   "outputs": [
    {
     "data": {
      "text/plain": [
       "LSTMModel(\n",
       "  (embedding): Embedding(289, 100)\n",
       "  (lstm): LSTM(100, 150, batch_first=True)\n",
       "  (fc): Linear(in_features=150, out_features=289, bias=True)\n",
       ")"
      ]
     },
     "execution_count": 31,
     "metadata": {},
     "output_type": "execute_result"
    }
   ],
   "source": [
    "model.to(device)"
   ]
  },
  {
   "cell_type": "code",
   "execution_count": 32,
   "metadata": {
    "executionInfo": {
     "elapsed": 6525,
     "status": "ok",
     "timestamp": 1738846921679,
     "user": {
      "displayName": "CampusX",
      "userId": "17274569631252575216"
     },
     "user_tz": -330
    },
    "id": "1faORN1VYFdu"
   },
   "outputs": [],
   "source": [
    "epochs = 50\n",
    "learning_rate = 0.001\n",
    "\n",
    "criterion = nn.CrossEntropyLoss()\n",
    "\n",
    "optimizer = torch.optim.Adam(model.parameters(), lr=learning_rate)"
   ]
  },
  {
   "cell_type": "code",
   "execution_count": 33,
   "metadata": {
    "colab": {
     "base_uri": "https://localhost:8080/"
    },
    "executionInfo": {
     "elapsed": 107932,
     "status": "ok",
     "timestamp": 1738847029608,
     "user": {
      "displayName": "CampusX",
      "userId": "17274569631252575216"
     },
     "user_tz": -330
    },
    "id": "LRLc1cbrYVVV",
    "outputId": "7bc238c9-56d3-4558-db07-41d2474aa64a"
   },
   "outputs": [
    {
     "name": "stdout",
     "output_type": "stream",
     "text": [
      "Epoch: 1, Loss: 166.5415\n",
      "Epoch: 2, Loss: 146.5226\n",
      "Epoch: 3, Loss: 133.6108\n",
      "Epoch: 4, Loss: 120.7223\n",
      "Epoch: 5, Loss: 107.8654\n",
      "Epoch: 6, Loss: 96.2851\n",
      "Epoch: 7, Loss: 85.0903\n",
      "Epoch: 8, Loss: 75.4135\n",
      "Epoch: 9, Loss: 66.1314\n",
      "Epoch: 10, Loss: 58.6906\n",
      "Epoch: 11, Loss: 52.0405\n",
      "Epoch: 12, Loss: 45.3228\n",
      "Epoch: 13, Loss: 39.6898\n",
      "Epoch: 14, Loss: 34.8524\n",
      "Epoch: 15, Loss: 30.3360\n",
      "Epoch: 16, Loss: 26.7533\n",
      "Epoch: 17, Loss: 23.8953\n",
      "Epoch: 18, Loss: 20.9982\n",
      "Epoch: 19, Loss: 18.6890\n",
      "Epoch: 20, Loss: 16.8336\n",
      "Epoch: 21, Loss: 15.3874\n",
      "Epoch: 22, Loss: 13.8108\n",
      "Epoch: 23, Loss: 12.4579\n",
      "Epoch: 24, Loss: 11.4450\n",
      "Epoch: 25, Loss: 10.5420\n",
      "Epoch: 26, Loss: 9.8255\n",
      "Epoch: 27, Loss: 9.2999\n",
      "Epoch: 28, Loss: 8.7800\n",
      "Epoch: 29, Loss: 8.1533\n",
      "Epoch: 30, Loss: 7.7739\n",
      "Epoch: 31, Loss: 7.2355\n",
      "Epoch: 32, Loss: 6.8930\n",
      "Epoch: 33, Loss: 6.5640\n",
      "Epoch: 34, Loss: 6.3138\n",
      "Epoch: 35, Loss: 6.2121\n",
      "Epoch: 36, Loss: 5.9572\n",
      "Epoch: 37, Loss: 5.7767\n",
      "Epoch: 38, Loss: 5.5459\n",
      "Epoch: 39, Loss: 5.4691\n",
      "Epoch: 40, Loss: 5.2855\n",
      "Epoch: 41, Loss: 5.1149\n",
      "Epoch: 42, Loss: 5.0416\n",
      "Epoch: 43, Loss: 4.9679\n",
      "Epoch: 44, Loss: 4.8106\n",
      "Epoch: 45, Loss: 4.6970\n",
      "Epoch: 46, Loss: 4.5028\n",
      "Epoch: 47, Loss: 4.6828\n",
      "Epoch: 48, Loss: 4.4587\n",
      "Epoch: 49, Loss: 4.3346\n",
      "Epoch: 50, Loss: 4.3819\n"
     ]
    }
   ],
   "source": [
    "# training loop\n",
    "\n",
    "for epoch in range(epochs):\n",
    "  total_loss = 0\n",
    "\n",
    "  for batch_x, batch_y in dataloader:\n",
    "\n",
    "    batch_x, batch_y = batch_x.to(device), batch_y.to(device)\n",
    "\n",
    "    optimizer.zero_grad()\n",
    "\n",
    "    output = model(batch_x)\n",
    "\n",
    "    loss = criterion(output, batch_y)\n",
    "\n",
    "    loss.backward()\n",
    "\n",
    "    optimizer.step()\n",
    "\n",
    "    total_loss = total_loss + loss.item()\n",
    "\n",
    "  print(f\"Epoch: {epoch + 1}, Loss: {total_loss:.4f}\")"
   ]
  },
  {
   "cell_type": "code",
   "execution_count": 34,
   "metadata": {
    "executionInfo": {
     "elapsed": 502,
     "status": "ok",
     "timestamp": 1738847037293,
     "user": {
      "displayName": "CampusX",
      "userId": "17274569631252575216"
     },
     "user_tz": -330
    },
    "id": "O9f6DkX-ZM-r"
   },
   "outputs": [],
   "source": [
    "# prediction\n",
    "\n",
    "def prediction(model, vocab, text):\n",
    "\n",
    "  # tokenize\n",
    "  tokenized_text = word_tokenize(text.lower())\n",
    "\n",
    "  # text -> numerical indices\n",
    "  numerical_text = text_to_indices(tokenized_text, vocab)\n",
    "\n",
    "  # padding\n",
    "  padded_text = torch.tensor([0] * (61 - len(numerical_text)) + numerical_text, dtype=torch.long).unsqueeze(0)\n",
    "\n",
    "  # send to model\n",
    "  output = model(padded_text)\n",
    "\n",
    "  # predicted index\n",
    "  value, index = torch.max(output, dim=1)\n",
    "\n",
    "  # merge with text\n",
    "  return text + \" \" + list(vocab.keys())[index]\n",
    "\n"
   ]
  },
  {
   "cell_type": "code",
   "execution_count": 35,
   "metadata": {
    "colab": {
     "base_uri": "https://localhost:8080/",
     "height": 35
    },
    "executionInfo": {
     "elapsed": 10,
     "status": "ok",
     "timestamp": 1738847038737,
     "user": {
      "displayName": "CampusX",
      "userId": "17274569631252575216"
     },
     "user_tz": -330
    },
    "id": "VsRgcJysbGCg",
    "outputId": "96e00ee4-a7ee-4549-cd63-297dde6a27eb"
   },
   "outputs": [
    {
     "data": {
      "application/vnd.google.colaboratory.intrinsic+json": {
       "type": "string"
      },
      "text/plain": [
       "'The course follows a monthly subscription'"
      ]
     },
     "execution_count": 35,
     "metadata": {},
     "output_type": "execute_result"
    }
   ],
   "source": [
    "prediction(model, vocab, \"The course follows a monthly\")"
   ]
  },
  {
   "cell_type": "code",
   "execution_count": 36,
   "metadata": {
    "colab": {
     "base_uri": "https://localhost:8080/"
    },
    "executionInfo": {
     "elapsed": 5318,
     "status": "ok",
     "timestamp": 1738847045896,
     "user": {
      "displayName": "CampusX",
      "userId": "17274569631252575216"
     },
     "user_tz": -330
    },
    "id": "t_JPACfEbNPo",
    "outputId": "0a36a6da-8118-4989-b754-e69826765f12"
   },
   "outputs": [
    {
     "name": "stdout",
     "output_type": "stream",
     "text": [
      "hi how are 2\n",
      "hi how are 2 criterias\n",
      "hi how are 2 criterias :\n",
      "hi how are 2 criterias : ?\n",
      "hi how are 2 criterias : ? if\n",
      "hi how are 2 criterias : ? if i\n",
      "hi how are 2 criterias : ? if i pay\n",
      "hi how are 2 criterias : ? if i pay on\n",
      "hi how are 2 criterias : ? if i pay on 15th\n",
      "hi how are 2 criterias : ? if i pay on 15th jan\n"
     ]
    }
   ],
   "source": [
    "import time\n",
    "\n",
    "num_tokens = 10\n",
    "input_text = \"hi how are\"\n",
    "\n",
    "for i in range(num_tokens):\n",
    "  output_text = prediction(model, vocab, input_text)\n",
    "  print(output_text)\n",
    "  input_text = output_text\n",
    "  time.sleep(0.5)\n"
   ]
  },
  {
   "cell_type": "code",
   "execution_count": 38,
   "metadata": {
    "executionInfo": {
     "elapsed": 469,
     "status": "ok",
     "timestamp": 1738847124646,
     "user": {
      "displayName": "CampusX",
      "userId": "17274569631252575216"
     },
     "user_tz": -330
    },
    "id": "JXsV4AnNXNnw"
   },
   "outputs": [],
   "source": [
    "dataloader1 = DataLoader(dataset, batch_size=32, shuffle=False)"
   ]
  },
  {
   "cell_type": "code",
   "execution_count": 40,
   "metadata": {
    "colab": {
     "base_uri": "https://localhost:8080/"
    },
    "executionInfo": {
     "elapsed": 959,
     "status": "ok",
     "timestamp": 1738847142643,
     "user": {
      "displayName": "CampusX",
      "userId": "17274569631252575216"
     },
     "user_tz": -330
    },
    "id": "Py7o0rJJc5pm",
    "outputId": "d6de41b2-e157-4da6-8dde-cd27de358a39"
   },
   "outputs": [
    {
     "name": "stdout",
     "output_type": "stream",
     "text": [
      "Model Accuracy: 95.65%\n"
     ]
    }
   ],
   "source": [
    "# Function to calculate accuracy\n",
    "def calculate_accuracy(model, dataloader, device):\n",
    "    model.eval()  # Set the model to evaluation mode\n",
    "    correct = 0\n",
    "    total = 0\n",
    "\n",
    "    with torch.no_grad():  # No need to compute gradients\n",
    "        for batch_x, batch_y in dataloader1:\n",
    "            batch_x, batch_y = batch_x.to(device), batch_y.to(device)\n",
    "\n",
    "            # Get model predictions\n",
    "            outputs = model(batch_x)\n",
    "\n",
    "            # Get the predicted word indices\n",
    "            _, predicted = torch.max(outputs, dim=1)\n",
    "\n",
    "            # Compare with actual labels\n",
    "            correct += (predicted == batch_y).sum().item()\n",
    "            total += batch_y.size(0)\n",
    "\n",
    "    accuracy = correct / total * 100\n",
    "    return accuracy\n",
    "\n",
    "# Compute accuracy\n",
    "accuracy = calculate_accuracy(model, dataloader, device)\n",
    "print(f\"Model Accuracy: {accuracy:.2f}%\")\n"
   ]
  },
  {
   "cell_type": "code",
   "execution_count": null,
   "metadata": {
    "id": "0bQnBuShXG5i"
   },
   "outputs": [],
   "source": []
  }
 ],
 "metadata": {
  "colab": {
   "authorship_tag": "ABX9TyOMZLSY+ogoenA0pdxGDLMw",
   "provenance": []
  },
  "kernelspec": {
   "display_name": "Python 3",
   "name": "python3"
  },
  "language_info": {
   "name": "python"
  }
 },
 "nbformat": 4,
 "nbformat_minor": 0
}
